

import pandas as pd 
df = pd.read_csv('Resources/purchase_data.csv')


count = df[]